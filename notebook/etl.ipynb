{
 "cells": [
  {
   "cell_type": "code",
   "execution_count": 2,
   "metadata": {},
   "outputs": [],
   "source": [
    "# data wrangling\n",
    "import pandas as pd"
   ]
  },
  {
   "cell_type": "code",
   "execution_count": 3,
   "metadata": {},
   "outputs": [],
   "source": [
    "# reading csv \n",
    "df = pd.read_csv('../data/raw/fraud_dataset.csv')"
   ]
  },
  {
   "cell_type": "code",
   "execution_count": 42,
   "metadata": {},
   "outputs": [],
   "source": [
    "# reordering the columns\n",
    "df = df[['isFraud', \n",
    "         'step', \n",
    "         'type', \n",
    "         'amount', \n",
    "         'oldbalanceOrg', \n",
    "         'newbalanceOrig', \n",
    "         'oldbalanceDest', \n",
    "         'newbalanceDest']]"
   ]
  },
  {
   "cell_type": "code",
   "execution_count": 43,
   "metadata": {},
   "outputs": [],
   "source": [
    "# creating dictionary containing columns names in order to rename them\n",
    "colunas = {\n",
    "    'isFraud': 'fraude',\n",
    "    'step':'tempo',\n",
    "    'type':'tipo',\n",
    "    'amount':'valor',\n",
    "    'oldbalanceOrg':'saldo_inicial_c1',\n",
    "    'newbalanceOrig':'novo_saldo_c1',\n",
    "    'oldbalanceDest':'saldo_inicial_c2',\n",
    "    'newbalanceDest':'novo_saldo_c2',\n",
    "}"
   ]
  },
  {
   "cell_type": "code",
   "execution_count": 44,
   "metadata": {},
   "outputs": [],
   "source": [
    "# renaming columns\n",
    "df = df.rename(columns = colunas)"
   ]
  },
  {
   "cell_type": "code",
   "execution_count": 46,
   "metadata": {},
   "outputs": [],
   "source": [
    "# Split the data into 80/20 train/test sets\n",
    "train = df.sample(frac=0.8, random_state=42)\n",
    "test = df.drop(train.index)"
   ]
  },
  {
   "cell_type": "code",
   "execution_count": 47,
   "metadata": {},
   "outputs": [],
   "source": [
    "train.to_csv('../data/etl/train.csv', index = False)\n",
    "test.to_csv('../data/etl/test.csv', index = False)"
   ]
  }
 ],
 "metadata": {
  "kernelspec": {
   "display_name": ".venv",
   "language": "python",
   "name": "python3"
  },
  "language_info": {
   "codemirror_mode": {
    "name": "ipython",
    "version": 3
   },
   "file_extension": ".py",
   "mimetype": "text/x-python",
   "name": "python",
   "nbconvert_exporter": "python",
   "pygments_lexer": "ipython3",
   "version": "3.10.10"
  },
  "orig_nbformat": 4,
  "vscode": {
   "interpreter": {
    "hash": "474b1a68aac03207d4c2c87470fb54bc418b1f710066fa869044f0bf21397a03"
   }
  }
 },
 "nbformat": 4,
 "nbformat_minor": 2
}
