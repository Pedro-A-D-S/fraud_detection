{
 "cells": [
  {
   "attachments": {},
   "cell_type": "markdown",
   "metadata": {},
   "source": [
    "# Libraries"
   ]
  },
  {
   "cell_type": "code",
   "execution_count": 38,
   "metadata": {},
   "outputs": [],
   "source": [
    "import pandas as pd\n",
    "from sklearn.compose import ColumnTransformer\n",
    "from sklearn.preprocessing import StandardScaler, OneHotEncoder"
   ]
  },
  {
   "attachments": {},
   "cell_type": "markdown",
   "metadata": {},
   "source": [
    "# Load Data"
   ]
  },
  {
   "cell_type": "code",
   "execution_count": 39,
   "metadata": {},
   "outputs": [],
   "source": [
    "train = pd.read_csv('../data/train.csv')\n",
    "test = pd.read_csv('../data/test.csv')"
   ]
  },
  {
   "attachments": {},
   "cell_type": "markdown",
   "metadata": {},
   "source": [
    "# Split data"
   ]
  },
  {
   "cell_type": "code",
   "execution_count": 41,
   "metadata": {},
   "outputs": [],
   "source": [
    "# Separate the target variable from the features\n",
    "X_train = train.drop('fraude', axis=1)  # Features\n",
    "y_train = train['fraude']  # Target variable"
   ]
  },
  {
   "cell_type": "code",
   "execution_count": 42,
   "metadata": {},
   "outputs": [],
   "source": [
    "# Split the testing data into features and target variable\n",
    "X_test = test.drop('fraude', axis=1)  # Features\n",
    "y_test = test['fraude']  # Target variable"
   ]
  },
  {
   "attachments": {},
   "cell_type": "markdown",
   "metadata": {},
   "source": [
    "# Feature Engineering"
   ]
  },
  {
   "cell_type": "code",
   "execution_count": 44,
   "metadata": {},
   "outputs": [],
   "source": [
    "numeric_features = ['tempo', 'valor', 'saldo_inicial_c1', 'novo_saldo_c1',\n",
    "       'saldo_inicial_c2', 'novo_saldo_c2']\n",
    "categorical_features = ['tipo']"
   ]
  },
  {
   "cell_type": "code",
   "execution_count": 45,
   "metadata": {},
   "outputs": [],
   "source": [
    "preprocessing_pipeline = ColumnTransformer([\n",
    "    ('numeric', StandardScaler(), numeric_features),\n",
    "    ('categorical', OneHotEncoder(), categorical_features)\n",
    "])"
   ]
  },
  {
   "cell_type": "code",
   "execution_count": 46,
   "metadata": {},
   "outputs": [],
   "source": [
    "# Fit the preprocessing pipeline to the training data\n",
    "X_train_processed = preprocessing_pipeline.fit_transform(X_train)\n",
    "X_train_processed = pd.DataFrame(X_train_processed, \n",
    "                                columns = numeric_features + \n",
    "                                list(preprocessing_pipeline.named_transformers_['categorical'].get_feature_names_out(categorical_features)))\n",
    "\n",
    "# Apply the same preprocessing to the testing data\n",
    "X_test_processed = preprocessing_pipeline.transform(X_test)\n",
    "X_test_processed = pd.DataFrame(X_test_processed, \n",
    "                                columns = numeric_features + \n",
    "                                list(preprocessing_pipeline.named_transformers_['categorical'].get_feature_names_out(categorical_features)))"
   ]
  },
  {
   "attachments": {},
   "cell_type": "markdown",
   "metadata": {},
   "source": [
    "# Save processed data"
   ]
  },
  {
   "cell_type": "code",
   "execution_count": 49,
   "metadata": {},
   "outputs": [],
   "source": [
    "X_train_processed.to_csv('../data/preprocessed_data/X_train.csv', index = False)\n",
    "X_test_processed.to_csv('../data/preprocessed_data/X_test.csv', index = False)\n",
    "y_train.to_csv('../data/preprocessed_data/y_train.csv', index = False)\n",
    "y_test.to_csv('../data/preprocessed_data/y_test.csv', index = False)"
   ]
  },
  {
   "cell_type": "code",
   "execution_count": null,
   "metadata": {},
   "outputs": [],
   "source": []
  }
 ],
 "metadata": {
  "kernelspec": {
   "display_name": ".venv",
   "language": "python",
   "name": "python3"
  },
  "language_info": {
   "codemirror_mode": {
    "name": "ipython",
    "version": 3
   },
   "file_extension": ".py",
   "mimetype": "text/x-python",
   "name": "python",
   "nbconvert_exporter": "python",
   "pygments_lexer": "ipython3",
   "version": "3.10.10"
  },
  "orig_nbformat": 4,
  "vscode": {
   "interpreter": {
    "hash": "474b1a68aac03207d4c2c87470fb54bc418b1f710066fa869044f0bf21397a03"
   }
  }
 },
 "nbformat": 4,
 "nbformat_minor": 2
}
