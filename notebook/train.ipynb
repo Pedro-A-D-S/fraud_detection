{
 "cells": [
  {
   "cell_type": "code",
   "execution_count": 48,
   "metadata": {},
   "outputs": [],
   "source": [
    "import pandas as pd\n",
    "import numpy as np\n",
    "import joblib\n",
    "\n",
    "from sklearn import metrics\n",
    "from sklearn.ensemble import RandomForestClassifier\n",
    "from sklearn.model_selection import RandomizedSearchCV"
   ]
  },
  {
   "attachments": {},
   "cell_type": "markdown",
   "metadata": {},
   "source": [
    "# Load data"
   ]
  },
  {
   "cell_type": "code",
   "execution_count": 34,
   "metadata": {},
   "outputs": [],
   "source": [
    "X_train = pd.read_csv('../data/preprocessed/X_train.csv')\n",
    "X_test = pd.read_csv('../data/preprocessed/X_test.csv')\n",
    "y_train = pd.read_csv('../data/preprocessed/y_train.csv')\n",
    "y_test = pd.read_csv('../data/preprocessed/y_test.csv')"
   ]
  },
  {
   "cell_type": "code",
   "execution_count": 35,
   "metadata": {},
   "outputs": [],
   "source": [
    "# instantiating random forest\n",
    "rforest = RandomForestClassifier(random_state = 75)"
   ]
  },
  {
   "cell_type": "code",
   "execution_count": 36,
   "metadata": {},
   "outputs": [],
   "source": [
    "# range for n estimators varying from 20 to 2000 \n",
    "n_estimators = np.arange(20, 2000, step = 20)\n",
    "# criterions\n",
    "criterion = [\"gini\", \"entropy\"]\n",
    "# max_features types\n",
    "max_features = [\"auto\", \"sqrt\", \"log2\"]\n",
    "# varying depth of trees from 2 to 200\n",
    "max_depth = list(np.arange(2, 200, step = 1))\n",
    "# variying the min samples split from 2 to 100\n",
    "min_samples_split = np.arange(2, 100, step = 2)\n",
    "# varying the minime leaves' samples\n",
    "min_samples_leaf = [1, 2, 4, 6, 8, 10]\n",
    "# bootstrap true or false\n",
    "bootstrap = [True, False]"
   ]
  },
  {
   "cell_type": "code",
   "execution_count": 37,
   "metadata": {},
   "outputs": [],
   "source": [
    "# dictionary with parameters to vary\n",
    "param_grid = {\n",
    "    \"n_estimators\": n_estimators,\n",
    "    \"criterion\": criterion,\n",
    "    \"max_features\": max_features,\n",
    "    \"max_depth\": max_depth,\n",
    "    \"min_samples_split\": min_samples_split,\n",
    "    \"min_samples_leaf\": min_samples_leaf,\n",
    "    \"bootstrap\": bootstrap,\n",
    "}"
   ]
  },
  {
   "cell_type": "code",
   "execution_count": 38,
   "metadata": {},
   "outputs": [],
   "source": [
    "# hyperparameters on randomized search cv\n",
    "random_cv = RandomizedSearchCV(rforest, \n",
    "                               param_grid, \n",
    "                               n_iter = 10, \n",
    "                               cv = 10, \n",
    "                               scoring = \"recall\", \n",
    "                               n_jobs = -1, \n",
    "                               random_state = 75\n",
    ")"
   ]
  },
  {
   "cell_type": "code",
   "execution_count": 39,
   "metadata": {},
   "outputs": [
    {
     "name": "stderr",
     "output_type": "stream",
     "text": [
      "c:\\Users\\pedro\\OneDrive\\Documentos\\fraud_detection\\.venv\\lib\\site-packages\\sklearn\\model_selection\\_search.py:909: DataConversionWarning: A column-vector y was passed when a 1d array was expected. Please change the shape of y to (n_samples,), for example using ravel().\n",
      "  self.best_estimator_.fit(X, y, **fit_params)\n"
     ]
    }
   ],
   "source": [
    "# fitting\n",
    "rcv = random_cv.fit(X_train, y_train)"
   ]
  },
  {
   "cell_type": "code",
   "execution_count": 40,
   "metadata": {},
   "outputs": [],
   "source": [
    "# creating dataframe with hyperparameters' tests\n",
    "tuning = pd.DataFrame(rcv.cv_results_)"
   ]
  },
  {
   "cell_type": "code",
   "execution_count": 41,
   "metadata": {},
   "outputs": [
    {
     "name": "stderr",
     "output_type": "stream",
     "text": [
      "C:\\Users\\pedro\\AppData\\Local\\Temp\\ipykernel_15580\\4115382181.py:5: DataConversionWarning: A column-vector y was passed when a 1d array was expected. Please change the shape of y to (n_samples,), for example using ravel().\n",
      "  model = rfn.fit(X_train, y_train)\n"
     ]
    }
   ],
   "source": [
    "# instanntiating random forest\n",
    "rfn = RandomForestClassifier(**rcv.best_params_, random_state = 75)\n",
    "\n",
    "# training model\n",
    "model = rfn.fit(X_train, y_train)\n",
    "# predicted values\n",
    "y_pred = rfn.predict(X_test)"
   ]
  },
  {
   "cell_type": "code",
   "execution_count": 42,
   "metadata": {},
   "outputs": [
    {
     "name": "stdout",
     "output_type": "stream",
     "text": [
      "Accuracy: 0.9993603306598435\n",
      "Precision: 0.9\n",
      "Recall: 0.42857142857142855\n",
      "F1 Score: 0.5806451612903225\n"
     ]
    }
   ],
   "source": [
    "# analyzing accuracy\n",
    "print('Accuracy: {}'.format(metrics.accuracy_score(y_test, y_pred)))\n",
    "# analyzing precision\n",
    "print('Precision: {}'.format(metrics.precision_score(y_test, y_pred)))\n",
    "# analyzing recall\n",
    "print('Recall: {}'.format(metrics.recall_score(y_test, y_pred)))\n",
    "# analyzing F1 score\n",
    "print('F1 Score: {}'.format(metrics.f1_score(y_test, y_pred)))"
   ]
  },
  {
   "cell_type": "code",
   "execution_count": 49,
   "metadata": {},
   "outputs": [
    {
     "data": {
      "text/plain": [
       "['../model/model_random_forest_1.0.pkl']"
      ]
     },
     "execution_count": 49,
     "metadata": {},
     "output_type": "execute_result"
    }
   ],
   "source": [
    "joblib.dump(model, '../model/model_random_forest_1.0.pkl')"
   ]
  },
  {
   "cell_type": "code",
   "execution_count": null,
   "metadata": {},
   "outputs": [],
   "source": []
  }
 ],
 "metadata": {
  "kernelspec": {
   "display_name": ".venv",
   "language": "python",
   "name": "python3"
  },
  "language_info": {
   "codemirror_mode": {
    "name": "ipython",
    "version": 3
   },
   "file_extension": ".py",
   "mimetype": "text/x-python",
   "name": "python",
   "nbconvert_exporter": "python",
   "pygments_lexer": "ipython3",
   "version": "3.10.10"
  },
  "orig_nbformat": 4,
  "vscode": {
   "interpreter": {
    "hash": "474b1a68aac03207d4c2c87470fb54bc418b1f710066fa869044f0bf21397a03"
   }
  }
 },
 "nbformat": 4,
 "nbformat_minor": 2
}
